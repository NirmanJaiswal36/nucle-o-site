{
 "cells": [
  {
   "cell_type": "code",
   "execution_count": 1,
   "metadata": {},
   "outputs": [],
   "source": [
    "import geopandas as gpd\n",
    "from shapely.geometry import Point\n",
    "from shapely.ops import nearest_points\n",
    "from pyproj import Transformer\n",
    "from shapely import Point, wkt\n",
    "import pandas as pd\n",
    "import matplotlib.pyplot as plt\n",
    "import os"
   ]
  },
  {
   "cell_type": "code",
   "execution_count": 21,
   "metadata": {},
   "outputs": [],
   "source": [
    "dams = pd.read_csv(r\"D:\\CS\\GitHub\\Nuclear-Site-Selection\\dam\\dam.csv\")"
   ]
  },
  {
   "cell_type": "code",
   "execution_count": 22,
   "metadata": {},
   "outputs": [
    {
     "data": {
      "text/plain": [
       "0        6886.770108\n",
       "1        3206.790392\n",
       "2       16328.188514\n",
       "3       17968.366654\n",
       "4       27835.677891\n",
       "            ...     \n",
       "5614    14855.444209\n",
       "5615    18543.570947\n",
       "5616    25525.679344\n",
       "5617    14470.468527\n",
       "5618     2648.370071\n",
       "Name: nearest_highway_distance, Length: 5619, dtype: float64"
      ]
     },
     "execution_count": 22,
     "metadata": {},
     "output_type": "execute_result"
    }
   ],
   "source": [
    "dams['nearest_highway_distance']"
   ]
  },
  {
   "cell_type": "code",
   "execution_count": 31,
   "metadata": {},
   "outputs": [],
   "source": [
    "dams['Avg_population'] = round(dams['Avg_population'])"
   ]
  },
  {
   "cell_type": "code",
   "execution_count": 32,
   "metadata": {},
   "outputs": [
    {
     "data": {
      "text/plain": [
       "0       538.0\n",
       "1       832.0\n",
       "2       736.0\n",
       "3       525.0\n",
       "4       257.0\n",
       "        ...  \n",
       "5614    118.0\n",
       "5615    206.0\n",
       "5616    172.0\n",
       "5617    335.0\n",
       "5618    231.0\n",
       "Name: Avg_population, Length: 5619, dtype: float64"
      ]
     },
     "execution_count": 32,
     "metadata": {},
     "output_type": "execute_result"
    }
   ],
   "source": [
    "dams['Avg_population']"
   ]
  },
  {
   "cell_type": "code",
   "execution_count": 33,
   "metadata": {},
   "outputs": [],
   "source": [
    "dams.to_csv(r\"D:\\CS\\GitHub\\Nuclear-Site-Selection\\dam\\dam.csv\")"
   ]
  },
  {
   "cell_type": "code",
   "execution_count": 12,
   "metadata": {},
   "outputs": [],
   "source": [
    "highways_gdf = gpd.read_file(r\"D:\\CS\\GitHub\\Nuclear-Site-Selection\\Highways and Roadways data\\Highways\\National_Highways.shp\")"
   ]
  },
  {
   "cell_type": "code",
   "execution_count": 13,
   "metadata": {},
   "outputs": [],
   "source": [
    "highways_gdf = highways_gdf.drop(columns=['osm_id','code', 'fclass','name'])\n",
    "highways_gdf = highways_gdf.rename(columns={'ref':'name'})"
   ]
  },
  {
   "cell_type": "code",
   "execution_count": 16,
   "metadata": {},
   "outputs": [
    {
     "data": {
      "text/html": [
       "<div>\n",
       "<style scoped>\n",
       "    .dataframe tbody tr th:only-of-type {\n",
       "        vertical-align: middle;\n",
       "    }\n",
       "\n",
       "    .dataframe tbody tr th {\n",
       "        vertical-align: top;\n",
       "    }\n",
       "\n",
       "    .dataframe thead th {\n",
       "        text-align: right;\n",
       "    }\n",
       "</style>\n",
       "<table border=\"1\" class=\"dataframe\">\n",
       "  <thead>\n",
       "    <tr style=\"text-align: right;\">\n",
       "      <th></th>\n",
       "      <th>name</th>\n",
       "      <th>oneway</th>\n",
       "      <th>maxspeed</th>\n",
       "      <th>layer</th>\n",
       "      <th>bridge</th>\n",
       "      <th>tunnel</th>\n",
       "      <th>geometry</th>\n",
       "    </tr>\n",
       "  </thead>\n",
       "  <tbody>\n",
       "    <tr>\n",
       "      <th>0</th>\n",
       "      <td>NH130C</td>\n",
       "      <td>B</td>\n",
       "      <td>0</td>\n",
       "      <td>0</td>\n",
       "      <td>F</td>\n",
       "      <td>F</td>\n",
       "      <td>LINESTRING (4282373.464 3555390.591, 4282234.9...</td>\n",
       "    </tr>\n",
       "    <tr>\n",
       "      <th>1</th>\n",
       "      <td>NH153</td>\n",
       "      <td>B</td>\n",
       "      <td>0</td>\n",
       "      <td>0</td>\n",
       "      <td>F</td>\n",
       "      <td>F</td>\n",
       "      <td>LINESTRING (4313159.820 3719474.960, 4313162.4...</td>\n",
       "    </tr>\n",
       "    <tr>\n",
       "      <th>2</th>\n",
       "      <td>NH30</td>\n",
       "      <td>F</td>\n",
       "      <td>0</td>\n",
       "      <td>0</td>\n",
       "      <td>F</td>\n",
       "      <td>F</td>\n",
       "      <td>LINESTRING (4167292.885 3701740.951, 4167291.2...</td>\n",
       "    </tr>\n",
       "    <tr>\n",
       "      <th>3</th>\n",
       "      <td>NH130C</td>\n",
       "      <td>B</td>\n",
       "      <td>0</td>\n",
       "      <td>0</td>\n",
       "      <td>F</td>\n",
       "      <td>F</td>\n",
       "      <td>LINESTRING (4277717.627 3556329.018, 4277698.9...</td>\n",
       "    </tr>\n",
       "    <tr>\n",
       "      <th>4</th>\n",
       "      <td>NH53</td>\n",
       "      <td>F</td>\n",
       "      <td>0</td>\n",
       "      <td>0</td>\n",
       "      <td>F</td>\n",
       "      <td>F</td>\n",
       "      <td>LINESTRING (4212782.746 3696038.839, 4212932.9...</td>\n",
       "    </tr>\n",
       "    <tr>\n",
       "      <th>...</th>\n",
       "      <td>...</td>\n",
       "      <td>...</td>\n",
       "      <td>...</td>\n",
       "      <td>...</td>\n",
       "      <td>...</td>\n",
       "      <td>...</td>\n",
       "      <td>...</td>\n",
       "    </tr>\n",
       "    <tr>\n",
       "      <th>107967</th>\n",
       "      <td>NH48;NH64</td>\n",
       "      <td>F</td>\n",
       "      <td>0</td>\n",
       "      <td>1</td>\n",
       "      <td>T</td>\n",
       "      <td>F</td>\n",
       "      <td>LINESTRING (3257096.003 3890684.913, 3257101.8...</td>\n",
       "    </tr>\n",
       "    <tr>\n",
       "      <th>107968</th>\n",
       "      <td>NH60</td>\n",
       "      <td>B</td>\n",
       "      <td>0</td>\n",
       "      <td>0</td>\n",
       "      <td>F</td>\n",
       "      <td>F</td>\n",
       "      <td>LINESTRING (3385641.641 3487138.284, 3385672.2...</td>\n",
       "    </tr>\n",
       "    <tr>\n",
       "      <th>107969</th>\n",
       "      <td>NH60</td>\n",
       "      <td>F</td>\n",
       "      <td>0</td>\n",
       "      <td>0</td>\n",
       "      <td>F</td>\n",
       "      <td>F</td>\n",
       "      <td>LINESTRING (3385963.574 3487290.483, 3385967.4...</td>\n",
       "    </tr>\n",
       "    <tr>\n",
       "      <th>107970</th>\n",
       "      <td>NH60</td>\n",
       "      <td>B</td>\n",
       "      <td>0</td>\n",
       "      <td>0</td>\n",
       "      <td>F</td>\n",
       "      <td>F</td>\n",
       "      <td>LINESTRING (3386145.106 3487390.160, 3386150.6...</td>\n",
       "    </tr>\n",
       "    <tr>\n",
       "      <th>107971</th>\n",
       "      <td>NH60</td>\n",
       "      <td>B</td>\n",
       "      <td>0</td>\n",
       "      <td>0</td>\n",
       "      <td>F</td>\n",
       "      <td>F</td>\n",
       "      <td>LINESTRING (3386334.474 3487507.016, 3386362.7...</td>\n",
       "    </tr>\n",
       "  </tbody>\n",
       "</table>\n",
       "<p>107972 rows × 7 columns</p>\n",
       "</div>"
      ],
      "text/plain": [
       "             name oneway  maxspeed  layer bridge tunnel  \\\n",
       "0          NH130C      B         0      0      F      F   \n",
       "1           NH153      B         0      0      F      F   \n",
       "2            NH30      F         0      0      F      F   \n",
       "3          NH130C      B         0      0      F      F   \n",
       "4            NH53      F         0      0      F      F   \n",
       "...           ...    ...       ...    ...    ...    ...   \n",
       "107967  NH48;NH64      F         0      1      T      F   \n",
       "107968       NH60      B         0      0      F      F   \n",
       "107969       NH60      F         0      0      F      F   \n",
       "107970       NH60      B         0      0      F      F   \n",
       "107971       NH60      B         0      0      F      F   \n",
       "\n",
       "                                                 geometry  \n",
       "0       LINESTRING (4282373.464 3555390.591, 4282234.9...  \n",
       "1       LINESTRING (4313159.820 3719474.960, 4313162.4...  \n",
       "2       LINESTRING (4167292.885 3701740.951, 4167291.2...  \n",
       "3       LINESTRING (4277717.627 3556329.018, 4277698.9...  \n",
       "4       LINESTRING (4212782.746 3696038.839, 4212932.9...  \n",
       "...                                                   ...  \n",
       "107967  LINESTRING (3257096.003 3890684.913, 3257101.8...  \n",
       "107968  LINESTRING (3385641.641 3487138.284, 3385672.2...  \n",
       "107969  LINESTRING (3385963.574 3487290.483, 3385967.4...  \n",
       "107970  LINESTRING (3386145.106 3487390.160, 3386150.6...  \n",
       "107971  LINESTRING (3386334.474 3487507.016, 3386362.7...  \n",
       "\n",
       "[107972 rows x 7 columns]"
      ]
     },
     "execution_count": 16,
     "metadata": {},
     "output_type": "execute_result"
    }
   ],
   "source": [
    "highways_gdf"
   ]
  },
  {
   "cell_type": "code",
   "execution_count": 17,
   "metadata": {},
   "outputs": [],
   "source": [
    "highways_gdf.to_file(r\"D:\\CS\\GitHub\\Nuclear-Site-Selection\\Highways and Roadways data\\Highways\\National_Highways.shp\")"
   ]
  },
  {
   "cell_type": "code",
   "execution_count": null,
   "metadata": {},
   "outputs": [],
   "source": []
  }
 ],
 "metadata": {
  "kernelspec": {
   "display_name": "Python 3",
   "language": "python",
   "name": "python3"
  },
  "language_info": {
   "codemirror_mode": {
    "name": "ipython",
    "version": 3
   },
   "file_extension": ".py",
   "mimetype": "text/x-python",
   "name": "python",
   "nbconvert_exporter": "python",
   "pygments_lexer": "ipython3",
   "version": "3.12.3"
  }
 },
 "nbformat": 4,
 "nbformat_minor": 2
}
