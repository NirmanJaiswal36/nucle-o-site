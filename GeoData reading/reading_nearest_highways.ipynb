{
 "cells": [
  {
   "cell_type": "code",
   "execution_count": 1,
   "metadata": {},
   "outputs": [],
   "source": [
    "\n",
    "import geopandas as gpd\n",
    "from shapely.ops import nearest_points\n",
    "from shapely.geometry import Point\n",
    "import numpy as np\n",
    "import pandas as pd\n"
   ]
  },
  {
   "cell_type": "code",
   "execution_count": 11,
   "metadata": {},
   "outputs": [],
   "source": [
    "highways_gdf = gpd.read_file(r\"D:\\CS\\GitHub\\Nuclear-Site-Selection\\Highways and Roadways data\\Highways\\National_Highways.shp\")\n",
    "dams_gdf = gpd.read_file(r'D:\\CS\\GitHub\\Nuclear-Site-Selection\\dam\\Dam.shp')\n",
    "dams_csv = pd.read_csv(r\"D:\\CS\\GitHub\\Nuclear-Site-Selection\\dam\\dam.csv\")"
   ]
  },
  {
   "cell_type": "code",
   "execution_count": 12,
   "metadata": {},
   "outputs": [],
   "source": [
    "# Ensure both GeoDataFrames use the same CRS\n",
    "dams_gdf = dams_gdf.to_crs(highways_gdf.crs)"
   ]
  },
  {
   "cell_type": "code",
   "execution_count": 13,
   "metadata": {},
   "outputs": [],
   "source": [
    "# Function to find the nearest geometry, distance, and highway name using an incremental buffer approach\n",
    "def nearest_with_buffer(row, other_gdf, point_column='geometry', initial_buffer=10000, buffer_increment=10000):\n",
    "    buffer_distance = initial_buffer\n",
    "    point = row[point_column]\n",
    "    \n",
    "    while True:\n",
    "        buffer = point.buffer(buffer_distance)\n",
    "        potential_highways = other_gdf[other_gdf.intersects(buffer)]\n",
    "        \n",
    "        if not potential_highways.empty:\n",
    "            # Calculate the distances to all intersecting linestrings and find the minimum\n",
    "            distances = potential_highways.geometry.apply(lambda geom: point.distance(geom))\n",
    "            min_idx = distances.idxmin()\n",
    "            nearest_geom = potential_highways.loc[min_idx, 'geometry']\n",
    "            highway_name = potential_highways.loc[min_idx, 'name']  # Ensure 'ref' is the column name for highway names\n",
    "            distance = distances[min_idx]\n",
    "            return nearest_geom, distance, highway_name\n",
    "        \n",
    "        # Increase buffer distance and repeat\n",
    "        buffer_distance += buffer_increment"
   ]
  },
  {
   "cell_type": "code",
   "execution_count": 14,
   "metadata": {},
   "outputs": [],
   "source": [
    "# Calculate the nearest highway and distance for each dam\n",
    "nearest_highways = dams_gdf.apply(lambda row: nearest_with_buffer(row, highways_gdf), axis=1)\n"
   ]
  },
  {
   "cell_type": "code",
   "execution_count": 15,
   "metadata": {},
   "outputs": [],
   "source": [
    "# Initialize lists to store results\n",
    "nearest_highway_geometries = []\n",
    "nearest_highway_distances = []\n",
    "nearest_highway_names = []\n",
    "\n",
    "# Populate the lists with the results\n",
    "for item in nearest_highways:\n",
    "    nearest_highway_geometries.append(item[0])\n",
    "    nearest_highway_distances.append(item[1] if item[1] is not None else np.nan)\n",
    "    nearest_highway_names.append(item[2])\n",
    "\n",
    "# Update the GeoDataFrame with the new columns\n",
    "dams_gdf['nearest_highway_geometry'] = nearest_highway_geometries\n",
    "dams_gdf['nearest_highway_distance'] = nearest_highway_distances\n",
    "dams_gdf['nearest_highway'] = nearest_highway_names"
   ]
  },
  {
   "cell_type": "code",
   "execution_count": 17,
   "metadata": {},
   "outputs": [],
   "source": [
    "# Update the GeoDataFrame with the new columns\n",
    "dams_csv['nearest_highway_geometry'] = nearest_highway_geometries\n",
    "dams_csv['nearest_highway_distance'] = nearest_highway_distances\n",
    "dams_csv['nearest_highway'] = nearest_highway_names"
   ]
  },
  {
   "cell_type": "code",
   "execution_count": 20,
   "metadata": {},
   "outputs": [],
   "source": [
    "dams_csv = dams_csv.drop(columns='Unnamed: 0')"
   ]
  },
  {
   "cell_type": "code",
   "execution_count": 22,
   "metadata": {},
   "outputs": [],
   "source": [
    "dams_csv.to_csv(r\"D:\\CS\\GitHub\\Nuclear-Site-Selection\\dam\\dam.csv\")"
   ]
  },
  {
   "cell_type": "code",
   "execution_count": null,
   "metadata": {},
   "outputs": [],
   "source": []
  }
 ],
 "metadata": {
  "kernelspec": {
   "display_name": "Python 3",
   "language": "python",
   "name": "python3"
  },
  "language_info": {
   "codemirror_mode": {
    "name": "ipython",
    "version": 3
   },
   "file_extension": ".py",
   "mimetype": "text/x-python",
   "name": "python",
   "nbconvert_exporter": "python",
   "pygments_lexer": "ipython3",
   "version": "3.12.3"
  }
 },
 "nbformat": 4,
 "nbformat_minor": 2
}
